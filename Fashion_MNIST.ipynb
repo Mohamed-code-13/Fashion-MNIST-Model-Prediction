{
 "cells": [
  {
   "cell_type": "markdown",
   "metadata": {
    "colab_type": "text",
    "id": "83YHOQBncA5h"
   },
   "source": [
    "# BY: Mohamed Ashraf Gaber\n",
    "\n",
    "## The Data.\n",
    "### The Data called Fashion MNIST dataset.\n",
    "### Fashion MNIST is a dataset from which contains 70,000 grayscale images spread across 1 of 10 categories. The images show clothes, articles by Zalando , in low resolution (28 x 28 pixels). The database is divided into a set of 60,000 training examples and a set of 10,000 test examples This database aims to replace the more complex MNIST data set (of hand-written figures) in a logic machine learning\n",
    "\n",
    "## This is a model predict what is this fashion type.\n"
   ]
  },
  {
   "cell_type": "markdown",
   "metadata": {
    "colab_type": "text",
    "id": "LsV_cqbbdP3j"
   },
   "source": [
    "## Importing Libraries that I'll need."
   ]
  },
  {
   "cell_type": "code",
   "execution_count": 1,
   "metadata": {
    "colab": {
     "base_uri": "https://localhost:8080/",
     "height": 71
    },
    "colab_type": "code",
    "id": "Fdr1QPo01b22",
    "outputId": "cf241aff-6a19-4d97-ee5f-2ced38e292fa"
   },
   "outputs": [
    {
     "name": "stderr",
     "output_type": "stream",
     "text": [
      "/usr/local/lib/python3.6/dist-packages/statsmodels/tools/_testing.py:19: FutureWarning: pandas.util.testing is deprecated. Use the functions in the public API at pandas.testing instead.\n",
      "  import pandas.util.testing as tm\n"
     ]
    }
   ],
   "source": [
    "%matplotlib inline\n",
    "import numpy as np\n",
    "import pandas as pd\n",
    "import matplotlib.pyplot as plt\n",
    "import seaborn as sns\n",
    "from tensorflow.keras.datasets.fashion_mnist import load_data\n",
    "from tensorflow.keras.models import Sequential\n",
    "from tensorflow.keras.layers import Dense, Dropout, Flatten\n",
    "from tensorflow.keras.callbacks import EarlyStopping\n",
    "from sklearn.metrics import classification_report"
   ]
  },
  {
   "cell_type": "markdown",
   "metadata": {
    "colab_type": "text",
    "id": "25P2efasdhVC"
   },
   "source": [
    "## Loading the data.\n",
    "### Splitting the data into a training set and test set."
   ]
  },
  {
   "cell_type": "code",
   "execution_count": 0,
   "metadata": {
    "colab": {},
    "colab_type": "code",
    "id": "APnbBQq96u-j"
   },
   "outputs": [],
   "source": [
    "(X_train_full, y_train_full), (X_test, y_test) = load_data()"
   ]
  },
  {
   "cell_type": "markdown",
   "metadata": {
    "colab_type": "text",
    "id": "OlvIvMILdy7O"
   },
   "source": [
    "### These are the class names."
   ]
  },
  {
   "cell_type": "code",
   "execution_count": 0,
   "metadata": {
    "colab": {},
    "colab_type": "code",
    "id": "YyB8mOLQbP1M"
   },
   "outputs": [],
   "source": [
    "class_names = [\"T-shirt/top\", \"Trouser\", \"Pullover\", \"Dress\", \"Coat\",\n",
    "              \"Sandal\", \"Shirt\", \"Sneaker\", \"Bag\", \"Ankle boot\"]"
   ]
  },
  {
   "cell_type": "markdown",
   "metadata": {
    "colab_type": "text",
    "id": "LCMOf6R0d6EX"
   },
   "source": [
    "## Some exploratory data and data visualization."
   ]
  },
  {
   "cell_type": "code",
   "execution_count": 4,
   "metadata": {
    "colab": {
     "base_uri": "https://localhost:8080/",
     "height": 34
    },
    "colab_type": "code",
    "id": "gB-1_xxt6_km",
    "outputId": "6e9d6f49-7e9c-420f-9d96-d8ab2de25b33"
   },
   "outputs": [
    {
     "data": {
      "text/plain": [
       "(60000, 28, 28)"
      ]
     },
     "execution_count": 4,
     "metadata": {
      "tags": []
     },
     "output_type": "execute_result"
    }
   ],
   "source": [
    "X_train_full.shape"
   ]
  },
  {
   "cell_type": "code",
   "execution_count": 5,
   "metadata": {
    "colab": {
     "base_uri": "https://localhost:8080/",
     "height": 1000
    },
    "colab_type": "code",
    "id": "uARkL3ZG7LgG",
    "outputId": "bd6f3a01-b0a8-4dcc-bb18-6ffa3bafc233"
   },
   "outputs": [
    {
     "data": {
      "text/plain": [
       "array([[  0,   0,   0,   0,   0,   0,   0,   0,   0,   0,   0,   0,   0,\n",
       "          0,   0,   0,   0,   0,   0,   0,   0,   0,   0,   0,   0,   0,\n",
       "          0,   0],\n",
       "       [  0,   0,   0,   0,   0,   0,   0,   0,   0,   0,   0,   0,   0,\n",
       "          0,   0,   0,   0,   0,   0,   0,   0,   0,   0,   0,   0,   0,\n",
       "          0,   0],\n",
       "       [  0,   0,   0,   0,   0,   0,   0,   0,   0,   0,   0,   0,   0,\n",
       "          0,   0,   0,   0,   0,   0,   0,   0,   0,   0,   0,   0,   0,\n",
       "          0,   0],\n",
       "       [  0,   0,   0,   0,   0,   0,   0,   0,   0,   0,   0,   0,   1,\n",
       "          0,   0,  13,  73,   0,   0,   1,   4,   0,   0,   0,   0,   1,\n",
       "          1,   0],\n",
       "       [  0,   0,   0,   0,   0,   0,   0,   0,   0,   0,   0,   0,   3,\n",
       "          0,  36, 136, 127,  62,  54,   0,   0,   0,   1,   3,   4,   0,\n",
       "          0,   3],\n",
       "       [  0,   0,   0,   0,   0,   0,   0,   0,   0,   0,   0,   0,   6,\n",
       "          0, 102, 204, 176, 134, 144, 123,  23,   0,   0,   0,   0,  12,\n",
       "         10,   0],\n",
       "       [  0,   0,   0,   0,   0,   0,   0,   0,   0,   0,   0,   0,   0,\n",
       "          0, 155, 236, 207, 178, 107, 156, 161, 109,  64,  23,  77, 130,\n",
       "         72,  15],\n",
       "       [  0,   0,   0,   0,   0,   0,   0,   0,   0,   0,   0,   1,   0,\n",
       "         69, 207, 223, 218, 216, 216, 163, 127, 121, 122, 146, 141,  88,\n",
       "        172,  66],\n",
       "       [  0,   0,   0,   0,   0,   0,   0,   0,   0,   1,   1,   1,   0,\n",
       "        200, 232, 232, 233, 229, 223, 223, 215, 213, 164, 127, 123, 196,\n",
       "        229,   0],\n",
       "       [  0,   0,   0,   0,   0,   0,   0,   0,   0,   0,   0,   0,   0,\n",
       "        183, 225, 216, 223, 228, 235, 227, 224, 222, 224, 221, 223, 245,\n",
       "        173,   0],\n",
       "       [  0,   0,   0,   0,   0,   0,   0,   0,   0,   0,   0,   0,   0,\n",
       "        193, 228, 218, 213, 198, 180, 212, 210, 211, 213, 223, 220, 243,\n",
       "        202,   0],\n",
       "       [  0,   0,   0,   0,   0,   0,   0,   0,   0,   1,   3,   0,  12,\n",
       "        219, 220, 212, 218, 192, 169, 227, 208, 218, 224, 212, 226, 197,\n",
       "        209,  52],\n",
       "       [  0,   0,   0,   0,   0,   0,   0,   0,   0,   0,   6,   0,  99,\n",
       "        244, 222, 220, 218, 203, 198, 221, 215, 213, 222, 220, 245, 119,\n",
       "        167,  56],\n",
       "       [  0,   0,   0,   0,   0,   0,   0,   0,   0,   4,   0,   0,  55,\n",
       "        236, 228, 230, 228, 240, 232, 213, 218, 223, 234, 217, 217, 209,\n",
       "         92,   0],\n",
       "       [  0,   0,   1,   4,   6,   7,   2,   0,   0,   0,   0,   0, 237,\n",
       "        226, 217, 223, 222, 219, 222, 221, 216, 223, 229, 215, 218, 255,\n",
       "         77,   0],\n",
       "       [  0,   3,   0,   0,   0,   0,   0,   0,   0,  62, 145, 204, 228,\n",
       "        207, 213, 221, 218, 208, 211, 218, 224, 223, 219, 215, 224, 244,\n",
       "        159,   0],\n",
       "       [  0,   0,   0,   0,  18,  44,  82, 107, 189, 228, 220, 222, 217,\n",
       "        226, 200, 205, 211, 230, 224, 234, 176, 188, 250, 248, 233, 238,\n",
       "        215,   0],\n",
       "       [  0,  57, 187, 208, 224, 221, 224, 208, 204, 214, 208, 209, 200,\n",
       "        159, 245, 193, 206, 223, 255, 255, 221, 234, 221, 211, 220, 232,\n",
       "        246,   0],\n",
       "       [  3, 202, 228, 224, 221, 211, 211, 214, 205, 205, 205, 220, 240,\n",
       "         80, 150, 255, 229, 221, 188, 154, 191, 210, 204, 209, 222, 228,\n",
       "        225,   0],\n",
       "       [ 98, 233, 198, 210, 222, 229, 229, 234, 249, 220, 194, 215, 217,\n",
       "        241,  65,  73, 106, 117, 168, 219, 221, 215, 217, 223, 223, 224,\n",
       "        229,  29],\n",
       "       [ 75, 204, 212, 204, 193, 205, 211, 225, 216, 185, 197, 206, 198,\n",
       "        213, 240, 195, 227, 245, 239, 223, 218, 212, 209, 222, 220, 221,\n",
       "        230,  67],\n",
       "       [ 48, 203, 183, 194, 213, 197, 185, 190, 194, 192, 202, 214, 219,\n",
       "        221, 220, 236, 225, 216, 199, 206, 186, 181, 177, 172, 181, 205,\n",
       "        206, 115],\n",
       "       [  0, 122, 219, 193, 179, 171, 183, 196, 204, 210, 213, 207, 211,\n",
       "        210, 200, 196, 194, 191, 195, 191, 198, 192, 176, 156, 167, 177,\n",
       "        210,  92],\n",
       "       [  0,   0,  74, 189, 212, 191, 175, 172, 175, 181, 185, 188, 189,\n",
       "        188, 193, 198, 204, 209, 210, 210, 211, 188, 188, 194, 192, 216,\n",
       "        170,   0],\n",
       "       [  2,   0,   0,   0,  66, 200, 222, 237, 239, 242, 246, 243, 244,\n",
       "        221, 220, 193, 191, 179, 182, 182, 181, 176, 166, 168,  99,  58,\n",
       "          0,   0],\n",
       "       [  0,   0,   0,   0,   0,   0,   0,  40,  61,  44,  72,  41,  35,\n",
       "          0,   0,   0,   0,   0,   0,   0,   0,   0,   0,   0,   0,   0,\n",
       "          0,   0],\n",
       "       [  0,   0,   0,   0,   0,   0,   0,   0,   0,   0,   0,   0,   0,\n",
       "          0,   0,   0,   0,   0,   0,   0,   0,   0,   0,   0,   0,   0,\n",
       "          0,   0],\n",
       "       [  0,   0,   0,   0,   0,   0,   0,   0,   0,   0,   0,   0,   0,\n",
       "          0,   0,   0,   0,   0,   0,   0,   0,   0,   0,   0,   0,   0,\n",
       "          0,   0]], dtype=uint8)"
      ]
     },
     "execution_count": 5,
     "metadata": {
      "tags": []
     },
     "output_type": "execute_result"
    }
   ],
   "source": [
    "X_train_full[0]"
   ]
  },
  {
   "cell_type": "code",
   "execution_count": 6,
   "metadata": {
    "colab": {
     "base_uri": "https://localhost:8080/",
     "height": 265
    },
    "colab_type": "code",
    "id": "hh91jpdl7YT9",
    "outputId": "e325b587-81c1-4989-a579-095603d0580d"
   },
   "outputs": [
    {
     "name": "stdout",
     "output_type": "stream",
     "text": [
      "This is a Ankle boot\n"
     ]
    },
    {
     "data": {
      "image/png": "[encoded data removed]",
      "text/plain": [
       "<Figure size 432x288 with 1 Axes>"
      ]
     },
     "metadata": {
      "needs_background": "light",
      "tags": []
     },
     "output_type": "display_data"
    }
   ],
   "source": [
    "plt.imshow(X_train_full[0], cmap='binary')\n",
    "plt.axis(\"off\")\n",
    "print(f'This is a {class_names[y_train_full[0]]}')\n",
    "plt.show()"
   ]
  },
  {
   "cell_type": "code",
   "execution_count": 7,
   "metadata": {
    "colab": {
     "base_uri": "https://localhost:8080/",
     "height": 265
    },
    "colab_type": "code",
    "id": "WbKMFR6u7gUN",
    "outputId": "ffff1e4c-be3c-4a0d-9864-011878476fe8"
   },
   "outputs": [
    {
     "name": "stdout",
     "output_type": "stream",
     "text": [
      "This is a T-shirt/top\n"
     ]
    },
    {
     "data": {
      "image/png": "[encoded data removed]",
      "text/plain": [
       "<Figure size 432x288 with 1 Axes>"
      ]
     },
     "metadata": {
      "needs_background": "light",
      "tags": []
     },
     "output_type": "display_data"
    }
   ],
   "source": [
    "plt.imshow(X_train_full[1], cmap='binary')\n",
    "plt.axis(\"off\")\n",
    "print(f'This is a {class_names[y_train_full[1]]}')\n",
    "plt.show()"
   ]
  },
  {
   "cell_type": "code",
   "execution_count": 8,
   "metadata": {
    "colab": {
     "base_uri": "https://localhost:8080/",
     "height": 265
    },
    "colab_type": "code",
    "id": "l6qUcyH07lO8",
    "outputId": "1c82f34c-9139-4a7d-9a45-44d457c37966"
   },
   "outputs": [
    {
     "name": "stdout",
     "output_type": "stream",
     "text": [
      "This is a T-shirt/top\n"
     ]
    },
    {
     "data": {
      "image/png": "[encoded data removed]",
      "text/plain": [
       "<Figure size 432x288 with 1 Axes>"
      ]
     },
     "metadata": {
      "needs_background": "light",
      "tags": []
     },
     "output_type": "display_data"
    }
   ],
   "source": [
    "plt.imshow(X_train_full[2], cmap='binary')\n",
    "plt.axis(\"off\")\n",
    "print(f'This is a {class_names[y_train_full[2]]}')\n",
    "plt.show()"
   ]
  },
  {
   "cell_type": "code",
   "execution_count": 9,
   "metadata": {
    "colab": {
     "base_uri": "https://localhost:8080/",
     "height": 265
    },
    "colab_type": "code",
    "id": "I-vLZHV2bq5w",
    "outputId": "d8d5df87-30ed-4b0e-8d04-a7fd70fb864d"
   },
   "outputs": [
    {
     "name": "stdout",
     "output_type": "stream",
     "text": [
      "This is a Dress\n"
     ]
    },
    {
     "data": {
      "image/png": "[encoded data removed]",
      "text/plain": [
       "<Figure size 432x288 with 1 Axes>"
      ]
     },
     "metadata": {
      "needs_background": "light",
      "tags": []
     },
     "output_type": "display_data"
    }
   ],
   "source": [
    "plt.imshow(X_train_full[3], cmap='binary')\n",
    "plt.axis(\"off\")\n",
    "print(f'This is a {class_names[y_train_full[3]]}')\n",
    "plt.show()"
   ]
  },
  {
   "cell_type": "code",
   "execution_count": 10,
   "metadata": {
    "colab": {
     "base_uri": "https://localhost:8080/",
     "height": 391
    },
    "colab_type": "code",
    "id": "B8oWiqkqbza3",
    "outputId": "944ed802-b614-41fb-a6b1-74c4e73160e6"
   },
   "outputs": [
    {
     "data": {
      "text/plain": [
       "<matplotlib.axes._subplots.AxesSubplot at 0x7f133fbfc2b0>"
      ]
     },
     "execution_count": 10,
     "metadata": {
      "tags": []
     },
     "output_type": "execute_result"
    },
    {
     "data": {
      "image/png": "[encoded data removed]",
      "text/plain": [
       "<Figure size 720x432 with 1 Axes>"
      ]
     },
     "metadata": {
      "needs_background": "light",
      "tags": []
     },
     "output_type": "display_data"
    }
   ],
   "source": [
    "plt.figure(figsize=(10, 6))\n",
    "\n",
    "sns.countplot(y_train_full)"
   ]
  },
  {
   "cell_type": "markdown",
   "metadata": {
    "colab_type": "text",
    "id": "caBGG2Sqd_44"
   },
   "source": [
    "### Creating a validation set to be able to evaluate the model while the model is training and stop when the model is overfitting."
   ]
  },
  {
   "cell_type": "code",
   "execution_count": 0,
   "metadata": {
    "colab": {},
    "colab_type": "code",
    "id": "T8IUcAEi75oj"
   },
   "outputs": [],
   "source": [
    "X_valid, X_train = X_train_full[:5000] / 255, X_train_full[5000:] / 255\n",
    "y_valid, y_train = y_train_full[:5000], y_train_full[5000:]"
   ]
  },
  {
   "cell_type": "markdown",
   "metadata": {
    "colab_type": "text",
    "id": "PhsyuYkpeTi0"
   },
   "source": [
    "## Creating the model. I used Dropout to block overfitting."
   ]
  },
  {
   "cell_type": "code",
   "execution_count": 0,
   "metadata": {
    "colab": {},
    "colab_type": "code",
    "id": "oIB1ip6KFSd-"
   },
   "outputs": [],
   "source": [
    "model = Sequential()  # Creating a Sequential object.\n",
    "\n",
    "model.add(Flatten(input_shape=[28, 28]))  # The input layer will have input_shape=[28, 28] and the activation will be relu.\n",
    "model.add(Dropout(0.2))  # Using 0.2 Dropout.\n",
    "\n",
    "model.add(Dense(300, activation='relu'))  # The first hidden layer will have 300 neurons and the activation will be relu.\n",
    "model.add(Dropout(0.2))  # Using 0.2 Dropout.\n",
    "\n",
    "model.add(Dense(200, activation='relu'))  # The second hidden layer will have 200 neurons and the activation will be relu.\n",
    "model.add(Dropout(0.2))  # Using 0.2 Dropout.\n",
    "\n",
    "model.add(Dense(100, activation='relu'))  # The third hidden layer will have 100 neurons and the activation will be relu.\n",
    "model.add(Dropout(0.2))  # Using 0.2 Dropout.\n",
    "\n",
    "model.add(Dense(50, activation='relu'))  # The fourth hidden layer will have 50 neurons and the activation will be relu.\n",
    "model.add(Dropout(0.2))  # Using 0.2 Dropout.\n",
    "\n",
    "model.add(Dense(10, activation='softmax'))  # The output layer will have 10 neuron and the activation will be softmax.\n",
    "\n",
    "model.compile(loss='sparse_categorical_crossentropy',\n",
    "              optimizer='sgd',\n",
    "              metrics=['accuracy'])  # For a multi categorical classification problem."
   ]
  },
  {
   "cell_type": "markdown",
   "metadata": {
    "colab_type": "text",
    "id": "1Yn5Kh7Nf_Dn"
   },
   "source": [
    "### Creating an early stopping to stop when the model is overfitting."
   ]
  },
  {
   "cell_type": "code",
   "execution_count": 0,
   "metadata": {
    "colab": {},
    "colab_type": "code",
    "id": "vTqcBPvqHI0L"
   },
   "outputs": [],
   "source": [
    "early_stopping = EarlyStopping(monitor='val_loss', patience=5, verbose=0, mode='auto',)"
   ]
  },
  {
   "cell_type": "markdown",
   "metadata": {
    "colab_type": "text",
    "id": "HS2w3ZhOgKf6"
   },
   "source": [
    "## Fitting the model."
   ]
  },
  {
   "cell_type": "code",
   "execution_count": 14,
   "metadata": {
    "colab": {
     "base_uri": "https://localhost:8080/",
     "height": 1000
    },
    "colab_type": "code",
    "id": "LPJsn7aPGMpA",
    "outputId": "1e9e5226-247f-4dfb-ef0a-9e40e19eb081"
   },
   "outputs": [
    {
     "name": "stdout",
     "output_type": "stream",
     "text": [
      "Epoch 1/130\n",
      "1719/1719 [==============================] - 4s 3ms/step - loss: 1.1262 - accuracy: 0.5842 - val_loss: 0.6101 - val_accuracy: 0.7720\n",
      "Epoch 2/130\n",
      "1719/1719 [==============================] - 4s 3ms/step - loss: 0.7063 - accuracy: 0.7418 - val_loss: 0.5209 - val_accuracy: 0.8120\n",
      "Epoch 3/130\n",
      "1719/1719 [==============================] - 4s 3ms/step - loss: 0.6236 - accuracy: 0.7773 - val_loss: 0.4812 - val_accuracy: 0.8246\n",
      "Epoch 4/130\n",
      "1719/1719 [==============================] - 4s 3ms/step - loss: 0.5770 - accuracy: 0.7934 - val_loss: 0.4326 - val_accuracy: 0.8440\n",
      "Epoch 5/130\n",
      "1719/1719 [==============================] - 4s 3ms/step - loss: 0.5427 - accuracy: 0.8065 - val_loss: 0.4238 - val_accuracy: 0.8516\n",
      "Epoch 6/130\n",
      "1719/1719 [==============================] - 4s 3ms/step - loss: 0.5225 - accuracy: 0.8128 - val_loss: 0.4145 - val_accuracy: 0.8490\n",
      "Epoch 7/130\n",
      "1719/1719 [==============================] - 5s 3ms/step - loss: 0.5007 - accuracy: 0.8210 - val_loss: 0.3955 - val_accuracy: 0.8622\n",
      "Epoch 8/130\n",
      "1719/1719 [==============================] - 4s 3ms/step - loss: 0.4933 - accuracy: 0.8231 - val_loss: 0.3899 - val_accuracy: 0.8576\n",
      "Epoch 9/130\n",
      "1719/1719 [==============================] - 4s 3ms/step - loss: 0.4793 - accuracy: 0.8286 - val_loss: 0.3790 - val_accuracy: 0.8616\n",
      "Epoch 10/130\n",
      "1719/1719 [==============================] - 5s 3ms/step - loss: 0.4671 - accuracy: 0.8331 - val_loss: 0.3661 - val_accuracy: 0.8698\n",
      "Epoch 11/130\n",
      "1719/1719 [==============================] - 4s 3ms/step - loss: 0.4584 - accuracy: 0.8355 - val_loss: 0.3682 - val_accuracy: 0.8690\n",
      "Epoch 12/130\n",
      "1719/1719 [==============================] - 5s 3ms/step - loss: 0.4485 - accuracy: 0.8396 - val_loss: 0.3576 - val_accuracy: 0.8768\n",
      "Epoch 13/130\n",
      "1719/1719 [==============================] - 5s 3ms/step - loss: 0.4435 - accuracy: 0.8411 - val_loss: 0.3545 - val_accuracy: 0.8740\n",
      "Epoch 14/130\n",
      "1719/1719 [==============================] - 5s 3ms/step - loss: 0.4346 - accuracy: 0.8451 - val_loss: 0.3511 - val_accuracy: 0.8740\n",
      "Epoch 15/130\n",
      "1719/1719 [==============================] - 4s 3ms/step - loss: 0.4309 - accuracy: 0.8455 - val_loss: 0.3434 - val_accuracy: 0.8788\n",
      "Epoch 16/130\n",
      "1719/1719 [==============================] - 5s 3ms/step - loss: 0.4260 - accuracy: 0.8476 - val_loss: 0.3447 - val_accuracy: 0.8776\n",
      "Epoch 17/130\n",
      "1719/1719 [==============================] - 5s 3ms/step - loss: 0.4190 - accuracy: 0.8502 - val_loss: 0.3424 - val_accuracy: 0.8768\n",
      "Epoch 18/130\n",
      "1719/1719 [==============================] - 4s 3ms/step - loss: 0.4148 - accuracy: 0.8507 - val_loss: 0.3341 - val_accuracy: 0.8790\n",
      "Epoch 19/130\n",
      "1719/1719 [==============================] - 5s 3ms/step - loss: 0.4101 - accuracy: 0.8532 - val_loss: 0.3360 - val_accuracy: 0.8792\n",
      "Epoch 20/130\n",
      "1719/1719 [==============================] - 5s 3ms/step - loss: 0.4070 - accuracy: 0.8539 - val_loss: 0.3296 - val_accuracy: 0.8802\n",
      "Epoch 21/130\n",
      "1719/1719 [==============================] - 4s 2ms/step - loss: 0.4007 - accuracy: 0.8563 - val_loss: 0.3332 - val_accuracy: 0.8812\n",
      "Epoch 22/130\n",
      "1719/1719 [==============================] - 4s 2ms/step - loss: 0.3983 - accuracy: 0.8560 - val_loss: 0.3265 - val_accuracy: 0.8814\n",
      "Epoch 23/130\n",
      "1719/1719 [==============================] - 5s 3ms/step - loss: 0.3957 - accuracy: 0.8578 - val_loss: 0.3235 - val_accuracy: 0.8840\n",
      "Epoch 24/130\n",
      "1719/1719 [==============================] - 5s 3ms/step - loss: 0.3900 - accuracy: 0.8587 - val_loss: 0.3203 - val_accuracy: 0.8866\n",
      "Epoch 25/130\n",
      "1719/1719 [==============================] - 4s 3ms/step - loss: 0.3881 - accuracy: 0.8603 - val_loss: 0.3187 - val_accuracy: 0.8838\n",
      "Epoch 26/130\n",
      "1719/1719 [==============================] - 4s 3ms/step - loss: 0.3837 - accuracy: 0.8610 - val_loss: 0.3131 - val_accuracy: 0.8856\n",
      "Epoch 27/130\n",
      "1719/1719 [==============================] - 4s 3ms/step - loss: 0.3804 - accuracy: 0.8618 - val_loss: 0.3184 - val_accuracy: 0.8848\n",
      "Epoch 28/130\n",
      "1719/1719 [==============================] - 4s 3ms/step - loss: 0.3765 - accuracy: 0.8633 - val_loss: 0.3137 - val_accuracy: 0.8896\n",
      "Epoch 29/130\n",
      "1719/1719 [==============================] - 5s 3ms/step - loss: 0.3747 - accuracy: 0.8649 - val_loss: 0.3174 - val_accuracy: 0.8844\n",
      "Epoch 30/130\n",
      "1719/1719 [==============================] - 4s 3ms/step - loss: 0.3732 - accuracy: 0.8654 - val_loss: 0.3075 - val_accuracy: 0.8876\n",
      "Epoch 31/130\n",
      "1719/1719 [==============================] - 4s 3ms/step - loss: 0.3703 - accuracy: 0.8659 - val_loss: 0.3096 - val_accuracy: 0.8892\n",
      "Epoch 32/130\n",
      "1719/1719 [==============================] - 4s 3ms/step - loss: 0.3642 - accuracy: 0.8683 - val_loss: 0.3093 - val_accuracy: 0.8878\n",
      "Epoch 33/130\n",
      "1719/1719 [==============================] - 4s 3ms/step - loss: 0.3642 - accuracy: 0.8682 - val_loss: 0.3058 - val_accuracy: 0.8894\n",
      "Epoch 34/130\n",
      "1719/1719 [==============================] - 4s 2ms/step - loss: 0.3594 - accuracy: 0.8704 - val_loss: 0.3051 - val_accuracy: 0.8892\n",
      "Epoch 35/130\n",
      "1719/1719 [==============================] - 4s 3ms/step - loss: 0.3624 - accuracy: 0.8694 - val_loss: 0.3055 - val_accuracy: 0.8892\n",
      "Epoch 36/130\n",
      "1719/1719 [==============================] - 4s 2ms/step - loss: 0.3610 - accuracy: 0.8691 - val_loss: 0.3159 - val_accuracy: 0.8838\n",
      "Epoch 37/130\n",
      "1719/1719 [==============================] - 4s 3ms/step - loss: 0.3576 - accuracy: 0.8705 - val_loss: 0.3021 - val_accuracy: 0.8896\n",
      "Epoch 38/130\n",
      "1719/1719 [==============================] - 5s 3ms/step - loss: 0.3566 - accuracy: 0.8706 - val_loss: 0.3027 - val_accuracy: 0.8914\n",
      "Epoch 39/130\n",
      "1719/1719 [==============================] - 4s 2ms/step - loss: 0.3530 - accuracy: 0.8720 - val_loss: 0.2977 - val_accuracy: 0.8918\n",
      "Epoch 40/130\n",
      "1719/1719 [==============================] - 4s 3ms/step - loss: 0.3525 - accuracy: 0.8724 - val_loss: 0.2958 - val_accuracy: 0.8934\n",
      "Epoch 41/130\n",
      "1719/1719 [==============================] - 4s 3ms/step - loss: 0.3468 - accuracy: 0.8742 - val_loss: 0.2998 - val_accuracy: 0.8936\n",
      "Epoch 42/130\n",
      "1719/1719 [==============================] - 5s 3ms/step - loss: 0.3494 - accuracy: 0.8729 - val_loss: 0.2959 - val_accuracy: 0.8904\n",
      "Epoch 43/130\n",
      "1719/1719 [==============================] - 4s 3ms/step - loss: 0.3462 - accuracy: 0.8745 - val_loss: 0.2994 - val_accuracy: 0.8930\n",
      "Epoch 44/130\n",
      "1719/1719 [==============================] - 4s 3ms/step - loss: 0.3442 - accuracy: 0.8753 - val_loss: 0.2980 - val_accuracy: 0.8918\n",
      "Epoch 45/130\n",
      "1719/1719 [==============================] - 5s 3ms/step - loss: 0.3389 - accuracy: 0.8765 - val_loss: 0.2966 - val_accuracy: 0.8918\n"
     ]
    },
    {
     "data": {
      "text/plain": [
       "<tensorflow.python.keras.callbacks.History at 0x7f12d00a5438>"
      ]
     },
     "execution_count": 14,
     "metadata": {
      "tags": []
     },
     "output_type": "execute_result"
    }
   ],
   "source": [
    "model.fit(x=X_train, y=y_train,\n",
    "          validation_data=(X_valid, y_valid),\n",
    "          epochs=130, verbose=1, batch_size=32,\n",
    "          callbacks=[early_stopping])"
   ]
  },
  {
   "cell_type": "markdown",
   "metadata": {
    "colab_type": "text",
    "id": "TRUqbOeAgUi4"
   },
   "source": [
    "## Visualizing the loss for the training and validation sets."
   ]
  },
  {
   "cell_type": "code",
   "execution_count": 0,
   "metadata": {
    "colab": {},
    "colab_type": "code",
    "id": "KuuS8Z6tGPpc"
   },
   "outputs": [],
   "source": [
    "losses = pd.DataFrame(model.history.history)"
   ]
  },
  {
   "cell_type": "markdown",
   "metadata": {
    "colab_type": "text",
    "id": "LjcX-aYOgdkJ"
   },
   "source": [
    "### That's great. There isn't overfitting, the validation loss is less than the training loss and the accuracy is high."
   ]
  },
  {
   "cell_type": "code",
   "execution_count": 16,
   "metadata": {
    "colab": {
     "base_uri": "https://localhost:8080/",
     "height": 500
    },
    "colab_type": "code",
    "id": "tbpWu3xnLQeQ",
    "outputId": "fb7803e5-6051-4cf0-99f3-c6923f71ae17"
   },
   "outputs": [
    {
     "data": {
      "text/plain": [
       "<matplotlib.axes._subplots.AxesSubplot at 0x7f127c27b5f8>"
      ]
     },
     "execution_count": 16,
     "metadata": {
      "tags": []
     },
     "output_type": "execute_result"
    },
    {
     "data": {
      "image/png": "[encoded data removed]",
      "text/plain": [
       "<Figure size 864x576 with 1 Axes>"
      ]
     },
     "metadata": {
      "needs_background": "light",
      "tags": []
     },
     "output_type": "display_data"
    }
   ],
   "source": [
    "losses.plot(figsize=(12, 8))"
   ]
  },
  {
   "cell_type": "markdown",
   "metadata": {
    "colab_type": "text",
    "id": "Z3UJKV-LhAB9"
   },
   "source": [
    "## Getting the prediction."
   ]
  },
  {
   "cell_type": "code",
   "execution_count": 17,
   "metadata": {
    "colab": {
     "base_uri": "https://localhost:8080/",
     "height": 88
    },
    "colab_type": "code",
    "id": "Y3c2oB5gg2dl",
    "outputId": "c3076d22-ef5c-4826-a398-3631efe86c88"
   },
   "outputs": [
    {
     "name": "stdout",
     "output_type": "stream",
     "text": [
      "WARNING:tensorflow:From <ipython-input-17-a3e3e5c68c66>:1: Sequential.predict_classes (from tensorflow.python.keras.engine.sequential) is deprecated and will be removed after 2021-01-01.\n",
      "Instructions for updating:\n",
      "Please use instead:* `np.argmax(model.predict(x), axis=-1)`,   if your model does multi-class classification   (e.g. if it uses a `softmax` last-layer activation).* `(model.predict(x) > 0.5).astype(\"int32\")`,   if your model does binary classification   (e.g. if it uses a `sigmoid` last-layer activation).\n"
     ]
    }
   ],
   "source": [
    "pred = model.predict_classes(X_test)"
   ]
  },
  {
   "cell_type": "markdown",
   "metadata": {
    "colab_type": "text",
    "id": "_lMFd3AUhCas"
   },
   "source": [
    "## Evaluating the model.\n",
    "## And we get 84% accuracy."
   ]
  },
  {
   "cell_type": "code",
   "execution_count": 18,
   "metadata": {
    "colab": {
     "base_uri": "https://localhost:8080/",
     "height": 306
    },
    "colab_type": "code",
    "id": "DORjlWVFGYzl",
    "outputId": "789e36ee-2f39-4a46-b1eb-53e5bce2dcff"
   },
   "outputs": [
    {
     "name": "stdout",
     "output_type": "stream",
     "text": [
      "              precision    recall  f1-score   support\n",
      "\n",
      "           0       0.74      0.92      0.82      1000\n",
      "           1       0.93      0.98      0.95      1000\n",
      "           2       0.84      0.64      0.73      1000\n",
      "           3       0.94      0.80      0.87      1000\n",
      "           4       0.61      0.95      0.74      1000\n",
      "           5       0.99      0.89      0.94      1000\n",
      "           6       0.85      0.40      0.54      1000\n",
      "           7       0.96      0.80      0.87      1000\n",
      "           8       0.92      0.98      0.95      1000\n",
      "           9       0.78      0.99      0.87      1000\n",
      "\n",
      "    accuracy                           0.84     10000\n",
      "   macro avg       0.86      0.84      0.83     10000\n",
      "weighted avg       0.86      0.84      0.83     10000\n",
      "\n"
     ]
    }
   ],
   "source": [
    "print(classification_report(y_test, pred))"
   ]
  }
 ],
 "metadata": {
  "accelerator": "GPU",
  "colab": {
   "collapsed_sections": [],
   "name": "Fashion_MNIST.ipynb",
   "provenance": []
  },
  "kernelspec": {
   "display_name": "Python 3",
   "language": "python",
   "name": "python3"
  },
  "language_info": {
   "codemirror_mode": {
    "name": "ipython",
    "version": 3
   },
   "file_extension": ".py",
   "mimetype": "text/x-python",
   "name": "python",
   "nbconvert_exporter": "python",
   "pygments_lexer": "ipython3",
   "version": "3.7.6"
  }
 },
 "nbformat": 4,
 "nbformat_minor": 1
}
